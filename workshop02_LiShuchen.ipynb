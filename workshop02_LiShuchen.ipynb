{
 "cells": [
  {
   "cell_type": "markdown",
   "metadata": {},
   "source": [
    "### Workshop 02"
   ]
  },
  {
   "cell_type": "code",
   "execution_count": null,
   "metadata": {},
   "outputs": [],
   "source": [
    "1. Run some program every 30 second\n",
    "\n",
    "2. Collect some metrics cpu_usage, mem_usage of your machine....\n",
    "\n",
    "    ?????\n",
    "\n",
    "3. Save into a csv\n",
    "\n",
    "\n",
    "# Functions..."
   ]
  },
  {
   "cell_type": "code",
   "execution_count": null,
   "metadata": {},
   "outputs": [],
   "source": [
    "# from datetime import datetime\n",
    "# str(datetime.now())"
   ]
  },
  {
   "cell_type": "markdown",
   "metadata": {},
   "source": [
    "# Solution 1"
   ]
  },
  {
   "cell_type": "code",
   "execution_count": null,
   "metadata": {},
   "outputs": [],
   "source": [
    "  !pip install psutil "
   ]
  },
  {
   "cell_type": "code",
   "execution_count": null,
   "metadata": {},
   "outputs": [],
   "source": [
    "import time\n",
    "from datetime import datetime\n",
    "import psutil\n",
    "\n",
    "\n",
    "fname = r\"C:\\Users\\Li Shuchen\\Desktop\\scpjt\\workshop\\cpu_mem.csv\"\n",
    "f = open(fname, mode =\"w+\")\n",
    "f.write (\"cpu_percent,memory_percent,current_time\\n\")\n",
    "\n",
    "while True:\n",
    "    f = open(fname, mode=\"a\") \n",
    "    cpu_percent = str(psutil.cpu_percent())\n",
    "    memory_percent = str(psutil.virtual_memory()[2])\n",
    "    current_time = str(datetime.now())\n",
    "    print (f\"{cpu_percent}, {memory_percent}, {current_time}\")\n",
    "    f.write (f\"{cpu_percent}, {memory_percent}, {current_time}\\n\")  \n",
    "    f.close()\n",
    "    time.sleep (30)\n",
    "   "
   ]
  },
  {
   "cell_type": "code",
   "execution_count": 21,
   "metadata": {},
   "outputs": [
    {
     "name": "stdout",
     "output_type": "stream",
     "text": [
      "['6.8', '32.2', '2019-09-18 16:23:45.965383']\n",
      "['4.0', '32.2', '2019-09-18 16:23:48.972762']\n",
      "['2.3', '32.3', '2019-09-18 16:23:51.980520']\n",
      "['2.5', '32.3', '2019-09-18 16:23:54.981834']\n",
      "['2.5', '32.1', '2019-09-18 16:23:57.990751']\n",
      "['3.3', '32.1', '2019-09-18 16:24:00.997601']\n",
      "['3.7', '32.1', '2019-09-18 16:24:04.002578']\n",
      "   cpu_percent  memory_percent                current_time\n",
      "0          6.8            32.2  2019-09-18 16:23:45.965383\n",
      "1          4.0            32.2  2019-09-18 16:23:48.972762\n",
      "2          2.3            32.3  2019-09-18 16:23:51.980520\n",
      "3          2.5            32.3  2019-09-18 16:23:54.981834\n",
      "4          2.5            32.1  2019-09-18 16:23:57.990751\n",
      "5          3.3            32.1  2019-09-18 16:24:00.997601\n",
      "6          3.7            32.1  2019-09-18 16:24:04.002578\n"
     ]
    },
    {
     "data": {
      "text/plain": [
       "<matplotlib.axes._subplots.AxesSubplot at 0x2968f52d400>"
      ]
     },
     "execution_count": 21,
     "metadata": {},
     "output_type": "execute_result"
    },
    {
     "data": {
      "image/png": "[encoded data removed]",
      "text/plain": [
       "<Figure size 432x288 with 1 Axes>"
      ]
     },
     "metadata": {
      "needs_background": "light"
     },
     "output_type": "display_data"
    }
   ],
   "source": [
    "import time\n",
    "from datetime import datetime\n",
    "import psutil\n",
    "import csv\n",
    "import pandas as pd\n",
    "import matplotlib.pyplot as plt\n",
    "\n",
    "def save2csv (row):\n",
    "    f=open(fname, mode = \"a\", newline=\"\") \n",
    "    csv_writer = csv.writer(f) \n",
    "    csv_writer.writerow(row)  # row must be in list\n",
    "    f.close()\n",
    "\n",
    "fname = r\"C:\\Users\\Li Shuchen\\Desktop\\scpjt\\workshop\\cpu_mem.csv\"\n",
    "f = open(fname, mode =\"w+\")\n",
    "save2csv([\"cpu_percent\", \"memory_percent\", \"current_time\"])\n",
    "t=0\n",
    "\n",
    "while True:\n",
    "    row = [str(psutil.cpu_percent()), str(psutil.virtual_memory()[2]), str(datetime.now())] \n",
    "    print (row)\n",
    "    save2csv(row)\n",
    "    time.sleep (3) \n",
    "    t += 3\n",
    "    if t >= 20:\n",
    "        break\n",
    "    \n",
    "df = pd.read_csv(fname)\n",
    "print (df.head(30))\n",
    "df.cpu_percent.plot()\n",
    "df.memory_percent.plot()"
   ]
  },
  {
   "cell_type": "code",
   "execution_count": 22,
   "metadata": {},
   "outputs": [
    {
     "data": {
      "text/html": [
       "<div>\n",
       "<style scoped>\n",
       "    .dataframe tbody tr th:only-of-type {\n",
       "        vertical-align: middle;\n",
       "    }\n",
       "\n",
       "    .dataframe tbody tr th {\n",
       "        vertical-align: top;\n",
       "    }\n",
       "\n",
       "    .dataframe thead th {\n",
       "        text-align: right;\n",
       "    }\n",
       "</style>\n",
       "<table border=\"1\" class=\"dataframe\">\n",
       "  <thead>\n",
       "    <tr style=\"text-align: right;\">\n",
       "      <th></th>\n",
       "      <th>cpu_percent</th>\n",
       "      <th>memory_percent</th>\n",
       "      <th>current_time</th>\n",
       "    </tr>\n",
       "  </thead>\n",
       "  <tbody>\n",
       "    <tr>\n",
       "      <th>0</th>\n",
       "      <td>6.8</td>\n",
       "      <td>32.2</td>\n",
       "      <td>2019-09-18 16:23:45.965383</td>\n",
       "    </tr>\n",
       "    <tr>\n",
       "      <th>1</th>\n",
       "      <td>4.0</td>\n",
       "      <td>32.2</td>\n",
       "      <td>2019-09-18 16:23:48.972762</td>\n",
       "    </tr>\n",
       "    <tr>\n",
       "      <th>2</th>\n",
       "      <td>2.3</td>\n",
       "      <td>32.3</td>\n",
       "      <td>2019-09-18 16:23:51.980520</td>\n",
       "    </tr>\n",
       "    <tr>\n",
       "      <th>3</th>\n",
       "      <td>2.5</td>\n",
       "      <td>32.3</td>\n",
       "      <td>2019-09-18 16:23:54.981834</td>\n",
       "    </tr>\n",
       "    <tr>\n",
       "      <th>4</th>\n",
       "      <td>2.5</td>\n",
       "      <td>32.1</td>\n",
       "      <td>2019-09-18 16:23:57.990751</td>\n",
       "    </tr>\n",
       "    <tr>\n",
       "      <th>5</th>\n",
       "      <td>3.3</td>\n",
       "      <td>32.1</td>\n",
       "      <td>2019-09-18 16:24:00.997601</td>\n",
       "    </tr>\n",
       "    <tr>\n",
       "      <th>6</th>\n",
       "      <td>3.7</td>\n",
       "      <td>32.1</td>\n",
       "      <td>2019-09-18 16:24:04.002578</td>\n",
       "    </tr>\n",
       "  </tbody>\n",
       "</table>\n",
       "</div>"
      ],
      "text/plain": [
       "   cpu_percent  memory_percent                current_time\n",
       "0          6.8            32.2  2019-09-18 16:23:45.965383\n",
       "1          4.0            32.2  2019-09-18 16:23:48.972762\n",
       "2          2.3            32.3  2019-09-18 16:23:51.980520\n",
       "3          2.5            32.3  2019-09-18 16:23:54.981834\n",
       "4          2.5            32.1  2019-09-18 16:23:57.990751\n",
       "5          3.3            32.1  2019-09-18 16:24:00.997601\n",
       "6          3.7            32.1  2019-09-18 16:24:04.002578"
      ]
     },
     "execution_count": 22,
     "metadata": {},
     "output_type": "execute_result"
    }
   ],
   "source": [
    "df.head(30)"
   ]
  },
  {
   "cell_type": "code",
   "execution_count": 23,
   "metadata": {
    "scrolled": true
   },
   "outputs": [
    {
     "data": {
      "text/plain": [
       "<matplotlib.axes._subplots.AxesSubplot at 0x2968fbe9ef0>"
      ]
     },
     "execution_count": 23,
     "metadata": {},
     "output_type": "execute_result"
    },
    {
     "data": {
      "image/png": "[encoded data removed]",
      "text/plain": [
       "<Figure size 432x288 with 1 Axes>"
      ]
     },
     "metadata": {
      "needs_background": "light"
     },
     "output_type": "display_data"
    }
   ],
   "source": [
    "df.cpu_percent.plot()"
   ]
  },
  {
   "cell_type": "code",
   "execution_count": 24,
   "metadata": {},
   "outputs": [
    {
     "data": {
      "text/plain": [
       "<matplotlib.axes._subplots.AxesSubplot at 0x2968f69c278>"
      ]
     },
     "execution_count": 24,
     "metadata": {},
     "output_type": "execute_result"
    },
    {
     "data": {
      "image/png": "[encoded data removed]",
      "text/plain": [
       "<Figure size 432x288 with 1 Axes>"
      ]
     },
     "metadata": {
      "needs_background": "light"
     },
     "output_type": "display_data"
    }
   ],
   "source": [
    "df.memory_percent.plot()"
   ]
  },
  {
   "cell_type": "markdown",
   "metadata": {},
   "source": [
    "# Solution 2"
   ]
  },
  {
   "cell_type": "code",
   "execution_count": 9,
   "metadata": {},
   "outputs": [
    {
     "data": {
      "text/plain": [
       "<matplotlib.axes._subplots.AxesSubplot at 0x1c697bcd908>"
      ]
     },
     "execution_count": 9,
     "metadata": {},
     "output_type": "execute_result"
    },
    {
     "data": {
      "image/png": "[encoded data removed]",
      "text/plain": [
       "<Figure size 432x288 with 1 Axes>"
      ]
     },
     "metadata": {
      "needs_background": "light"
     },
     "output_type": "display_data"
    }
   ],
   "source": [
    "import time\n",
    "import csv\n",
    "from datetime import datetime\n",
    "import psutil\n",
    "import pandas as pd\n",
    "\n",
    "\n",
    "def collection_metrics():\n",
    "    cpu= psutil.cpu_percent()    #cpu is float\n",
    "    mem= psutil.virtual_memory().percent  # no bracket after percent \n",
    "    timestamp = str (datetime.now())\n",
    "    return (cpu, mem, timestamp)\n",
    "\n",
    "def save_metrics(row, mode):\n",
    "    with open (\"cpu_mem_time.csv\", mode=mode, newline=\"\") as f:\n",
    "        csv_writer = csv.writer(f)\n",
    "        csv_writer.writerow(row)\n",
    "\n",
    "def dosth():\n",
    "    row = collection_metrics()\n",
    "    save_metrics(row,\"a\")\n",
    "    \n",
    "headrow = (\"cpu_percent\", \"memory_percent\", \"current_time\")\n",
    "save_metrics(headrow, \"w\")\n",
    "t=0\n",
    "\n",
    "while True:\n",
    "    dosth()\n",
    "    time.sleep(2)\n",
    "    t += 2\n",
    "    if t >= 20:\n",
    "        break\n",
    "\n",
    "df = pd.read_csv(\"cpu_mem_time.csv\")\n",
    "df.cpu_percent.plot()"
   ]
  },
  {
   "cell_type": "code",
   "execution_count": 10,
   "metadata": {},
   "outputs": [
    {
     "data": {
      "text/plain": [
       "<matplotlib.axes._subplots.AxesSubplot at 0x1c697c1e358>"
      ]
     },
     "execution_count": 10,
     "metadata": {},
     "output_type": "execute_result"
    },
    {
     "data": {
      "image/png": "[encoded data removed]",
      "text/plain": [
       "<Figure size 432x288 with 1 Axes>"
      ]
     },
     "metadata": {
      "needs_background": "light"
     },
     "output_type": "display_data"
    }
   ],
   "source": [
    "df.memory_percent.plot()"
   ]
  },
  {
   "cell_type": "code",
   "execution_count": null,
   "metadata": {},
   "outputs": [],
   "source": []
  }
 ],
 "metadata": {
  "kernelspec": {
   "display_name": "Python 3",
   "language": "python",
   "name": "python3"
  },
  "language_info": {
   "codemirror_mode": {
    "name": "ipython",
    "version": 3
   },
   "file_extension": ".py",
   "mimetype": "text/x-python",
   "name": "python",
   "nbconvert_exporter": "python",
   "pygments_lexer": "ipython3",
   "version": "3.7.3"
  }
 },
 "nbformat": 4,
 "nbformat_minor": 2
}
